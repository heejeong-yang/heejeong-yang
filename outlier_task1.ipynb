{
 "cells": [
  {
   "cell_type": "markdown",
   "metadata": {
    "collapsed": true,
    "pycharm": {
     "name": "#%% md\n"
    }
   },
   "source": [
    "## 과제1 윷놀이 <하>\n",
    "### 배(0), 등(1)의 개수 세어 대응하는 알파벳 출력하기\n",
    "#### 도 : 0 1 1 1 -> A\n",
    "#### 개 : 0 0 1 1 -> B\n",
    "#### 걸 : 0 0 0 1 -> C\n",
    "#### 윷 : 0 0 0 0 -> D\n",
    "#### 모 : 1 1 1 1 -> E"
   ]
  },
  {
   "cell_type": "code",
   "execution_count": null,
   "outputs": [],
   "source": [
    "'''\n",
    "1. 세 줄을 입력받기\n",
    "2. 세 줄을 끊어내어 0의 개수 세기\n",
    "3. 0개 개수와 대응하는 알파벳으로 이루어진 딕셔너리 생성\n",
    "4. key(0의 개수)에 맞는 value(알파벳) 출력하기\n",
    "'''"
   ],
   "metadata": {
    "collapsed": false,
    "pycharm": {
     "name": "#%%\n"
    }
   }
  },
  {
   "cell_type": "code",
   "execution_count": null,
   "outputs": [],
   "source": [
    "str = [ input() for _ in range(3) ]           # 세 줄 입력받기(str 타입은 list)\n",
    "\n",
    "dic1 = {0:'E', 1:'A', 2:'B', 3:'C', 4:'D' }   # 0의 개수, 알페벳으로 이루어진 딕셔너리\n",
    "\n",
    "for i in range(3):                           # 줄이 3개니까 3번 반복\n",
    "  num0 = str[i].count('0')                   # str[0] -> 입력받은 첫번재 줄 -> 0의 개수 세기\n",
    "  if num0 in dic1:                           # if문에서 key값에 대응하는 value 값 출력\n",
    "    print(dic1[num0])"
   ],
   "metadata": {
    "collapsed": false,
    "pycharm": {
     "name": "#%%\n"
    }
   }
  },
  {
   "cell_type": "code",
   "source": [
    "input_list = [ input() for _ in range(4)]\n",
    "\n",
    "x = int(input_list[0][0])\n",
    "y = int(input_list[0][1])\n",
    "for i in range(x):\n",
    "  for j in range(y):\n",
    "    print(0)\n",
    "  print('\\n')\n",
    "\n"
   ],
   "metadata": {
    "collapsed": false,
    "pycharm": {
     "name": "#%%\n"
    }
   },
   "execution_count": null,
   "outputs": []
  }
 ],
 "metadata": {
  "kernelspec": {
   "display_name": "Python 3",
   "language": "python",
   "name": "python3"
  },
  "language_info": {
   "codemirror_mode": {
    "name": "ipython",
    "version": 2
   },
   "file_extension": ".py",
   "mimetype": "text/x-python",
   "name": "python",
   "nbconvert_exporter": "python",
   "pygments_lexer": "ipython2",
   "version": "2.7.6"
  }
 },
 "nbformat": 4,
 "nbformat_minor": 0
}